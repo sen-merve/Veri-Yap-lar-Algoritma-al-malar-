{
  "nbformat": 4,
  "nbformat_minor": 0,
  "metadata": {
    "colab": {
      "provenance": []
    },
    "kernelspec": {
      "name": "python3",
      "display_name": "Python 3"
    },
    "language_info": {
      "name": "python"
    }
  },
  "cells": [
    {
      "cell_type": "markdown",
      "source": [],
      "metadata": {
        "id": "Vty7aBRc6oHZ"
      }
    },
    {
      "cell_type": "code",
      "execution_count": 1,
      "metadata": {
        "colab": {
          "base_uri": "https://localhost:8080/"
        },
        "id": "XXLPE3yR2rNJ",
        "outputId": "c1a46e36-c342-4389-9536-54e49a57acc6"
      },
      "outputs": [
        {
          "output_type": "stream",
          "name": "stdout",
          "text": [
            "Merhaba, İGÜ - İSTKA / Ders 4\n"
          ]
        }
      ],
      "source": [
        "print(\"Merhaba, İGÜ - İSTKA / Ders 4\") #print ekrana çıktı veren bir kod\n"
      ]
    },
    {
      "cell_type": "code",
      "source": [
        "import sys #import python programlama dilinde yazılıma kütüphane eklemeye yarayan bir kod\n",
        "print(sys.version)\n"
      ],
      "metadata": {
        "colab": {
          "base_uri": "https://localhost:8080/"
        },
        "id": "8Re7lUGi55eL",
        "outputId": "649ae8ef-9a9d-4c34-944d-1bdc0b18f4fc"
      },
      "execution_count": 2,
      "outputs": [
        {
          "output_type": "stream",
          "name": "stdout",
          "text": [
            "3.10.12 (main, Jul 29 2024, 16:56:48) [GCC 11.4.0]\n"
          ]
        }
      ]
    },
    {
      "cell_type": "code",
      "source": [
        "from google.colab import drive #google colab - drive bağlantısı\n",
        "drive.mount('/content/drive')"
      ],
      "metadata": {
        "id": "wupD0Klu6SFD",
        "outputId": "8c8b4d58-a9b8-4d1c-d55c-ae38c10f0986",
        "colab": {
          "base_uri": "https://localhost:8080/"
        }
      },
      "execution_count": 3,
      "outputs": [
        {
          "output_type": "stream",
          "name": "stdout",
          "text": [
            "Mounted at /content/drive\n"
          ]
        }
      ]
    },
    {
      "cell_type": "code",
      "source": [
        "import os\n",
        "os.chdir('/content/drive/My Drive/VERIYAPILARI_ISTKA')\n",
        "!pwd #bize kodun çıktısını dosya yolu olarak veren lpd bloğudur."
      ],
      "metadata": {
        "id": "ZH_EXpA985N5",
        "outputId": "98d3266e-ff54-40fc-8ccf-c0d3945f7ebc",
        "colab": {
          "base_uri": "https://localhost:8080/"
        }
      },
      "execution_count": 4,
      "outputs": [
        {
          "output_type": "stream",
          "name": "stdout",
          "text": [
            "/content/drive/My Drive/VERIYAPILARI_ISTKA\n"
          ]
        }
      ]
    },
    {
      "cell_type": "code",
      "source": [
        "# 1 ile 100 arasındaki sayılardan 7'ye bölünenleri bulan Python kodu\n",
        "sayi_dizisi= []\n",
        "sayi=1\n",
        "\n",
        "while sayi<=100:\n",
        "  if sayi %7 == 0:\n",
        "    sayi_dizisi.append(sayi)\n",
        "  sayi +=1\n",
        "\n",
        "#sonucu ekrana yazdır\n",
        "print(\"1 ile 100 arasındaki 7'ye bölünen sayılar:\",sayi_dizisi)\n",
        "print(\"toplam sayi adeti: \",len(sayi_dizisi))"
      ],
      "metadata": {
        "colab": {
          "base_uri": "https://localhost:8080/"
        },
        "id": "_IjJkDbtGY2e",
        "outputId": "d242360b-0496-4758-aec1-0708a8ea87b9"
      },
      "execution_count": 6,
      "outputs": [
        {
          "output_type": "stream",
          "name": "stdout",
          "text": [
            "1 ile 100 arasındaki 7'ye bölünen sayılar: [7, 14, 21, 28, 35, 42, 49, 56, 63, 70, 77, 84, 91, 98]\n",
            "toplam sayi adeti:  14\n"
          ]
        }
      ]
    },
    {
      "cell_type": "code",
      "source": [
        "# 1 ile 100 arasındaki sayılardan 7'ye bölünenleri ve bölünmeyenleri bulan Python kodu\n",
        "sayi_dizisi= []   #7'ye bölünenleri tuttuğumuz liste\n",
        "sayi_dizisi2=[]   #7'ye bölünmeyenleri tuttuğumuz liste\n",
        "sayi=1\n",
        "\n",
        "while sayi<=100:\n",
        "  if sayi %7 == 0:\n",
        "    sayi_dizisi.append(sayi)\n",
        "  elif sayi %7 != 0:\n",
        "    sayi_dizisi2.append(sayi)\n",
        "  sayi +=1\n",
        "\n",
        "#sonucu ekrana yazdır\n",
        "print(\"1 ile 100 arasındaki 7'ye bölünen sayılar:\",sayi_dizisi)\n",
        "print(\"toplam bölünen sayi adeti: \",len(sayi_dizisi))\n",
        "print(\"1 ile 100 arasındaki 7'ye bölünmeyen sayılar:\",sayi_dizisi2)\n",
        "print(\"toplam bölünmeyen sayi adeti: \",len(sayi_dizisi2))"
      ],
      "metadata": {
        "colab": {
          "base_uri": "https://localhost:8080/"
        },
        "outputId": "b84abfa5-c0b4-4d66-c338-7f5d6f3e3bf8",
        "id": "1zdtXYZ-H-Um"
      },
      "execution_count": 7,
      "outputs": [
        {
          "output_type": "stream",
          "name": "stdout",
          "text": [
            "1 ile 100 arasındaki 7'ye bölünen sayılar: [7, 14, 21, 28, 35, 42, 49, 56, 63, 70, 77, 84, 91, 98]\n",
            "toplam bölünen sayi adeti:  14\n",
            "1 ile 100 arasındaki 7'ye bölünmeyen sayılar: [1, 2, 3, 4, 5, 6, 8, 9, 10, 11, 12, 13, 15, 16, 17, 18, 19, 20, 22, 23, 24, 25, 26, 27, 29, 30, 31, 32, 33, 34, 36, 37, 38, 39, 40, 41, 43, 44, 45, 46, 47, 48, 50, 51, 52, 53, 54, 55, 57, 58, 59, 60, 61, 62, 64, 65, 66, 67, 68, 69, 71, 72, 73, 74, 75, 76, 78, 79, 80, 81, 82, 83, 85, 86, 87, 88, 89, 90, 92, 93, 94, 95, 96, 97, 99, 100]\n",
            "toplam bölünmeyen sayi adeti:  86\n"
          ]
        }
      ]
    },
    {
      "cell_type": "code",
      "source": [
        "# Girilen iki kodun hangisinin büyük olduğunu bulan ve sayı dışında girilen karakterin hatalı olduğu bildiren kod blogudur\n",
        "while True:\n",
        "  try:\n",
        "    gelen1= float(input(\"birinci sayıyı girin: \"))\n",
        "    gelen2= float(input(\"ikinci sayıyı girin: \"))\n",
        "\n",
        "    if gelen1>gelen2:\n",
        "      print(\"ilk sayı büyüktür\")\n",
        "    elif gelen1<gelen2:\n",
        "      print(\"ikinci sayi büyüktür\")\n",
        "    else:\n",
        "      print(\"sayılar birbirine eşittir\")\n",
        "\n",
        "    break\n",
        "  except ValueError:\n",
        "    print(\"lütfen geçerli bir sayi girin.\")\n"
      ],
      "metadata": {
        "colab": {
          "base_uri": "https://localhost:8080/"
        },
        "id": "cF42xBxxH97t",
        "outputId": "30b336c9-6df7-4021-cce9-9130ed8aaa1b"
      },
      "execution_count": 11,
      "outputs": [
        {
          "output_type": "stream",
          "name": "stdout",
          "text": [
            "birinci sayıyı girin: 5\n",
            "ikinci sayıyı girin: 10\n",
            "ikinci sayi büyüktür\n"
          ]
        }
      ]
    },
    {
      "cell_type": "code",
      "source": [
        "# Kullanıcıdan alınan sayıya kadar 1'den başlayarak faktöriyel hesabının yapılmasıdır\n",
        "\n",
        "while True:\n",
        "  try:\n",
        "    sayi=int(input(\"bir sayi girin: \"))\n",
        "    if sayi<0:\n",
        "      print(\"negatif sayıların faktöriyeli hesaplanamaz.\")\n",
        "    elif sayi==0 or sayi==1:\n",
        "      print(1)\n",
        "    else :\n",
        "      sonuç=1\n",
        "      while sayi>1:\n",
        "        sonuç*=sayi\n",
        "        sayi-=1\n",
        "      print(sonuç)\n",
        "    break\n",
        "  except ValueError:\n",
        "    print(\"lütfen geçerli bir sayı girin. \")"
      ],
      "metadata": {
        "colab": {
          "base_uri": "https://localhost:8080/"
        },
        "id": "LTh_8WmiMaHA",
        "outputId": "6e313a61-a741-4694-af5c-fc5ab035220a"
      },
      "execution_count": 25,
      "outputs": [
        {
          "output_type": "stream",
          "name": "stdout",
          "text": [
            "bir sayi girin: 6\n",
            "720\n"
          ]
        }
      ]
    },
    {
      "cell_type": "code",
      "source": [
        "# Kullanıcıdan başlangıç değeri al\n",
        "while True:\n",
        "    try:\n",
        "        baslangic_degeri = int(input(\"Başlangıç değerini girin: \"))\n",
        "        if baslangic_degeri < 0:\n",
        "            baslangic_degeri = abs(baslangic_degeri)\n",
        "            print(f\"Negatif değer girdiniz, pozitif olarak alındı: {baslangic_degeri}\")\n",
        "        break\n",
        "    except ValueError:\n",
        "        print(\"Lütfen geçerli bir tam sayı girin.\")\n",
        "\n",
        "# Kullanıcıdan son değer al\n",
        "while True:\n",
        "    try:\n",
        "        bitis_degeri = int(input(\"Bitiş değerini girin: \"))\n",
        "        if bitis_degeri < 0:\n",
        "            bitis_degeri = abs(bitis_degeri)\n",
        "            print(f\"Negatif değer girdiniz, pozitif olarak alındı: {bitis_degeri}\")\n",
        "        break\n",
        "    except ValueError:\n",
        "        print(\"Lütfen geçerli bir tam sayı girin.\")\n",
        "\n",
        "# Başlangıç ve bitiş değerleri arasında çift sayıları bul ve topla\n",
        "cift_sayilar = []\n",
        "cift_sayilarin_toplami = 0\n",
        "sayi = baslangic_degeri\n",
        "\n",
        "while sayi <= bitis_degeri:\n",
        "    if sayi % 2 == 0:\n",
        "        cift_sayilar.append(sayi)\n",
        "        cift_sayilarin_toplami += sayi\n",
        "    sayi += 1\n",
        "\n",
        "# Elde edilen çift sayıları ve toplamlarını ekrana yazdır\n",
        "print(f\"{baslangic_degeri} ile {bitis_degeri} arasındaki çift sayılar:\")\n",
        "for num in cift_sayilar:\n",
        "    print(num, end=\" \")\n",
        "\n",
        "print(f\"\\nÇift sayıların toplamı: {cift_sayilarin_toplami}\")"
      ],
      "metadata": {
        "colab": {
          "base_uri": "https://localhost:8080/"
        },
        "id": "gwFbdVS3OvNB",
        "outputId": "fe87fdf4-6fdf-4bdb-d88c-e1acde5f55da"
      },
      "execution_count": 36,
      "outputs": [
        {
          "output_type": "stream",
          "name": "stdout",
          "text": [
            "Başlangıç değerini girin: 50\n",
            "Bitiş değerini girin: -100\n",
            "Negatif değer girdiniz, pozitif olarak alındı: 100\n",
            "50 ile 100 arasındaki çift sayılar:\n",
            "50 52 54 56 58 60 62 64 66 68 70 72 74 76 78 80 82 84 86 88 90 92 94 96 98 100 \n",
            "Çift sayıların toplamı: 1950\n"
          ]
        }
      ]
    },
    {
      "cell_type": "code",
      "source": [
        "# Önceden tanımlalan sesli harf listesinde girilen metnin karşılaştırılması yapılarak sesli ve sessiz harf kontrolünün yapımı\n",
        "sesli_harfler = 'aeıioöuüAEIİOÖUÜ'\n",
        "\n",
        "kelime = input(\"Bir kelime girin: \") # Kullanıcıdan bir kelime al\n",
        "\n",
        "# Sesli ve sessiz harf sayısını hesapla\n",
        "sesli_harf_sayisi = 0\n",
        "sessiz_harf_sayisi = 0\n",
        "\n",
        "'''\n",
        "isalpha() ile bir stringde yalnızca harf olup olmadığını kontrol etmek için kullanılır.\n",
        "\n",
        "Aşağıdaki kod blogunda geçen \"isalpha\" harf dışı bir karakter ile karşılaşınca \"false\" döndürmektedir.\n",
        "'''\n",
        "\n",
        "for harf in kelime:\n",
        "    if harf.isalpha():  # Sadece harfleri kontrol et\n",
        "        if harf in sesli_harfler:\n",
        "            sesli_harf_sayisi += 1\n",
        "        else:\n",
        "            sessiz_harf_sayisi += 1\n",
        "\n",
        "# Sonuçları ekrana yazdır\n",
        "print(kelime, \"kelimesinde\" , sesli_harf_sayisi , \"adet sesli harf ve\", sessiz_harf_sayisi, \"sessiz harf vardır.\")\n",
        ""
      ],
      "metadata": {
        "colab": {
          "base_uri": "https://localhost:8080/"
        },
        "id": "fJU5u-EPYg-C",
        "outputId": "832cb0e6-f3c2-49cb-e3e7-6db018cf1ca3"
      },
      "execution_count": 37,
      "outputs": [
        {
          "output_type": "stream",
          "name": "stdout",
          "text": [
            "Bir kelime girin: SİBER AKADEMİ\n",
            "SİBER AKADEMİ kelimesinde 6 adet sesli harf ve 6 sessiz harf vardır.\n"
          ]
        }
      ]
    }
  ]
}