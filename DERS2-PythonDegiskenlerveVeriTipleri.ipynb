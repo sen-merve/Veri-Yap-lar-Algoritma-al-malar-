{
  "nbformat": 4,
  "nbformat_minor": 0,
  "metadata": {
    "colab": {
      "provenance": []
    },
    "kernelspec": {
      "name": "python3",
      "display_name": "Python 3"
    },
    "language_info": {
      "name": "python"
    }
  },
  "cells": [
    {
      "cell_type": "markdown",
      "source": [],
      "metadata": {
        "id": "Vty7aBRc6oHZ"
      }
    },
    {
      "cell_type": "code",
      "execution_count": 3,
      "metadata": {
        "colab": {
          "base_uri": "https://localhost:8080/"
        },
        "id": "XXLPE3yR2rNJ",
        "outputId": "850fdeaa-27d9-4cc2-b1a5-4f937a8750f3"
      },
      "outputs": [
        {
          "output_type": "stream",
          "name": "stdout",
          "text": [
            "Merhaba, İGÜ - İSTKA / Ders 2\n"
          ]
        }
      ],
      "source": [
        "print(\"Merhaba, İGÜ - İSTKA / Ders 2\") #print ekrana çıktı veren bir kod\n"
      ]
    },
    {
      "cell_type": "code",
      "source": [
        "import sys #import python programlama dilinde yazılıma kütüphane eklemeye yarayan bir kod\n",
        "print(sys.version)\n"
      ],
      "metadata": {
        "colab": {
          "base_uri": "https://localhost:8080/"
        },
        "id": "8Re7lUGi55eL",
        "outputId": "4aaf0b82-aac9-40f9-8cab-d0a26d6c3787"
      },
      "execution_count": 2,
      "outputs": [
        {
          "output_type": "stream",
          "name": "stdout",
          "text": [
            "3.10.12 (main, Jul 29 2024, 16:56:48) [GCC 11.4.0]\n"
          ]
        }
      ]
    },
    {
      "cell_type": "code",
      "source": [
        "from google.colab import drive #google colab - drive bağlantısı\n",
        "drive.mount('/content/drive')"
      ],
      "metadata": {
        "id": "wupD0Klu6SFD",
        "colab": {
          "base_uri": "https://localhost:8080/"
        },
        "outputId": "c2137211-0041-40b5-9844-78b62bffd674"
      },
      "execution_count": 4,
      "outputs": [
        {
          "output_type": "stream",
          "name": "stdout",
          "text": [
            "Mounted at /content/drive\n"
          ]
        }
      ]
    },
    {
      "cell_type": "code",
      "source": [
        "import os\n",
        "os.chdir('/content/drive/My Drive/VERIYAPILARI_ISTKA')\n",
        "!pwd #bize kodun çıktısını dosya yolu olarak veren lpd bloğudur."
      ],
      "metadata": {
        "id": "ZH_EXpA985N5",
        "colab": {
          "base_uri": "https://localhost:8080/"
        },
        "outputId": "b4d90ba0-51bd-4639-d2eb-b0eb57b25c4a"
      },
      "execution_count": 5,
      "outputs": [
        {
          "output_type": "stream",
          "name": "stdout",
          "text": [
            "/content/drive/My Drive/VERIYAPILARI_ISTKA\n"
          ]
        }
      ]
    },
    {
      "cell_type": "markdown",
      "source": [
        "# **VERİ YAPILARI ve TİPLERİ**\n",
        "\n",
        "Veri Yapıları nedir? Veri yapıları, verilerin organize edilmesinde ve saklanırken türlerini tanımlar. Bu yapılar, verilerin etkin bir şekilde kullanımı - işlenmesini sağlamaktadır.\n",
        "\n",
        "Buradaki ilk kural değişken isimlendirme kurallarının kavranmasıdır.\n",
        "\n",
        "Değişken ismi arasında boşluk bilgisi kesinlikle olmamalıdır.\n",
        "Özel karakter kesinlikle eklenmemelidir.\n",
        "Değişkenlerde Türkçe Karakter kullanılmamalıdır\n",
        "Döngü ve Kontrol yapılarının isimleri değişken olamaz (if, for, while)\n",
        "Büyük ve Küçük harf duyarlılığı unutulmamalıdır.\n",
        "Veri Tipleri\n",
        "\n",
        "Integer - Tamsayı tanımlaması\n",
        "Float - Ondalıklı Sayı tanımlaması\n",
        "String - Metinsel içerik tanımlaması\n",
        "Boolean (True - False) - Doğru / Yanlış tanımlaması\n",
        "List - Liste tanımlaması\n",
        "Tuple - Demet tanımlaması\n",
        "Dictionary - Sözlük tanımlaması\n",
        "Set - Küme tanımlaması\n",
        "Python Programlama Dili Temelinde Kullanılan Fonksiyonlar\n",
        "\n",
        "len() -> bir değişkenin uzunluğunu ele almaktadır.\n",
        "type() -> bir değişkenin veri tipini vermektedir.\n",
        "print() -> belirtilen değeri veya değerleri ekrana yazdırır.\n",
        "capitalized() -> bir dizeyi alır ve sadece ilk harfini büyük harf yapar, geri kalan harfleri küçük harf yapar.\n",
        "split() -> bir dizeyi belirli bir ayırıcıya göre böler ve her bir parçayı liste elemanı olarak döner.\n",
        "upper() -> bir dizedeki tüm harfleri büyük harfe çevirir.\n",
        "input() -> kullanıcıdan veri almak için kullanılmaktadır.\n",
        "float() -> bir değeri ondalıklı sayı veri tipine dönüştürmek için kullanılır.\n",
        "int() -> bir değeri tam sayı veri tipine dönüştürmek için kullanılır.\n",
        "abs() -> mutlak değer alma fonksiyonudur.\n",
        "Python Programlama Dilinde Kullanılan Temel Ktüphaneler\n",
        "\n",
        "Kütüphane terim olarak; Belirli bir işlevselliği gerçekleştirmek için önceden yazılmış kod bloklarının bir topluluğudur.\n",
        "\n",
        "Özellikler:\n",
        "\n",
        "Yeniden Kullanılabilirlik\n",
        "\n",
        "Modülerlik\n",
        "\n",
        "Kolaylık, Hız ve Esneklik\n",
        "\n",
        "Dökümantasyon:\n",
        "\n",
        "Python Programlama dilinde Kütüphaneler \"import\" ile yazılıma eklenmektedir. Temel Kütüphaneler:\n",
        "\n",
        "import os -> işletim sistemiyle etkilişimli kod yazımı için gerekli olan bir kütüphanedir. Asli görevi dizin işlemleridir.\n",
        "\n",
        "import random -> yazılımda rastgele bir sayı üretmebilmek için kullanılan bir kütüphanedir."
      ],
      "metadata": {
        "id": "rY1Eg8sDTqg3"
      }
    },
    {
      "cell_type": "code",
      "source": [
        "#Geçerli değişken tanımlaması\n",
        "degisken_1=10\n",
        "Degisken2=20\n",
        "_degisken3=30"
      ],
      "metadata": {
        "id": "yb9joHQ-vjRd"
      },
      "execution_count": 6,
      "outputs": []
    },
    {
      "cell_type": "code",
      "source": [
        "# Geçersiz değişken tanımlaması\n",
        "1degisken=40\n",
        "degisken-4=50"
      ],
      "metadata": {
        "colab": {
          "base_uri": "https://localhost:8080/",
          "height": 106
        },
        "id": "d2j1nRBTwCGD",
        "outputId": "64b7374b-025a-4bb2-ab29-4303ebc88f52"
      },
      "execution_count": 7,
      "outputs": [
        {
          "output_type": "error",
          "ename": "SyntaxError",
          "evalue": "invalid decimal literal (<ipython-input-7-f10b1456fcfd>, line 2)",
          "traceback": [
            "\u001b[0;36m  File \u001b[0;32m\"<ipython-input-7-f10b1456fcfd>\"\u001b[0;36m, line \u001b[0;32m2\u001b[0m\n\u001b[0;31m    1degisken=40\u001b[0m\n\u001b[0m    ^\u001b[0m\n\u001b[0;31mSyntaxError\u001b[0m\u001b[0;31m:\u001b[0m invalid decimal literal\n"
          ]
        }
      ]
    },
    {
      "cell_type": "code",
      "source": [
        "#Değişken Tanımlama İşlemi\n",
        "x=5\n",
        "y=\"Merhaba Dünya\"\n",
        "\n",
        "print(x)\n",
        "print(y)"
      ],
      "metadata": {
        "colab": {
          "base_uri": "https://localhost:8080/"
        },
        "id": "gH0Azx5XwiFr",
        "outputId": "f8a2f5a8-b750-4c2c-ca63-107e01407766"
      },
      "execution_count": 8,
      "outputs": [
        {
          "output_type": "stream",
          "name": "stdout",
          "text": [
            "5\n",
            "Merhaba Dünya\n"
          ]
        }
      ]
    },
    {
      "cell_type": "code",
      "source": [
        "#Değişken Tanımlama İşlemi\n",
        "\n",
        "a=10\n",
        "print(type(a))"
      ],
      "metadata": {
        "colab": {
          "base_uri": "https://localhost:8080/"
        },
        "id": "n7iu6Gue5mls",
        "outputId": "80f86e9c-7fe9-489d-b6db-bfe19b3cc79f"
      },
      "execution_count": 9,
      "outputs": [
        {
          "output_type": "stream",
          "name": "stdout",
          "text": [
            "<class 'int'>\n"
          ]
        }
      ]
    },
    {
      "cell_type": "code",
      "source": [
        "# Float - Ondalıklı Sayı Tanımlaması\n",
        "\n",
        "b=20.5\n",
        "print(type(b))"
      ],
      "metadata": {
        "colab": {
          "base_uri": "https://localhost:8080/"
        },
        "id": "DtWvleh058_b",
        "outputId": "b418c0a8-1079-4f8c-ff38-330b7c689111"
      },
      "execution_count": 10,
      "outputs": [
        {
          "output_type": "stream",
          "name": "stdout",
          "text": [
            "<class 'float'>\n"
          ]
        }
      ]
    },
    {
      "cell_type": "code",
      "source": [
        "# int'ten float'a çevrimin gerçekleştirilmesi\n",
        "\n",
        "x=10\n",
        "y=float(x)\n",
        "print(y,type(y))"
      ],
      "metadata": {
        "colab": {
          "base_uri": "https://localhost:8080/"
        },
        "id": "SGDqE3sd6dD7",
        "outputId": "6ee8bca7-1f00-4282-ae3b-dd1e8d6399c5"
      },
      "execution_count": 11,
      "outputs": [
        {
          "output_type": "stream",
          "name": "stdout",
          "text": [
            "10.0 <class 'float'>\n"
          ]
        }
      ]
    },
    {
      "cell_type": "code",
      "source": [
        "# float'tan int'e çevrimin gerçekleştirilmesi\n",
        "\n",
        "a=12.34\n",
        "b=int (a)\n",
        "print(b,type(b))"
      ],
      "metadata": {
        "colab": {
          "base_uri": "https://localhost:8080/"
        },
        "id": "RfnAHSun7O-8",
        "outputId": "aac726b2-c7aa-4c19-cbf9-c24641c0d586"
      },
      "execution_count": 12,
      "outputs": [
        {
          "output_type": "stream",
          "name": "stdout",
          "text": [
            "12 <class 'int'>\n"
          ]
        }
      ]
    },
    {
      "cell_type": "code",
      "source": [
        "# String - Metinsel İçerik Tanımlaması\n",
        "\n",
        "c=\"Python Programlama\"\n",
        "print(c)\n",
        "print(type(c))\n",
        "\n"
      ],
      "metadata": {
        "colab": {
          "base_uri": "https://localhost:8080/"
        },
        "id": "VDmZoNxp7dhT",
        "outputId": "695f1081-8b98-4285-8de9-9467827eb4f3"
      },
      "execution_count": 13,
      "outputs": [
        {
          "output_type": "stream",
          "name": "stdout",
          "text": [
            "Python Programlama\n",
            "<class 'str'>\n"
          ]
        }
      ]
    },
    {
      "cell_type": "code",
      "source": [
        "# Boolean (True- False) - Doğru / Yanlış tanımlaması\n",
        "\n",
        "d=True\n",
        "e=False\n",
        "print(d)\n",
        "print(type(e))"
      ],
      "metadata": {
        "colab": {
          "base_uri": "https://localhost:8080/"
        },
        "id": "4K2tiPUH721z",
        "outputId": "f162d9aa-8756-4511-b572-49659664d78a"
      },
      "execution_count": 14,
      "outputs": [
        {
          "output_type": "stream",
          "name": "stdout",
          "text": [
            "True\n",
            "<class 'bool'>\n"
          ]
        }
      ]
    },
    {
      "cell_type": "code",
      "source": [
        "# List - liste tanımlaması\n",
        "\n",
        "my_list=[1,2,3,4,5]\n",
        "print(type(my_list))\n",
        "print(my_list)"
      ],
      "metadata": {
        "colab": {
          "base_uri": "https://localhost:8080/"
        },
        "id": "y2Y_sqk38rEC",
        "outputId": "d34195fd-b0e8-4277-8381-4f48ed83d23b"
      },
      "execution_count": 15,
      "outputs": [
        {
          "output_type": "stream",
          "name": "stdout",
          "text": [
            "<class 'list'>\n",
            "[1, 2, 3, 4, 5]\n"
          ]
        }
      ]
    },
    {
      "cell_type": "code",
      "source": [
        "# Tuple - Demet tanımlaması\n",
        "\n",
        "demet=(1,2,3,4,5)\n",
        "print(type(demet))\n",
        "print(demet)"
      ],
      "metadata": {
        "colab": {
          "base_uri": "https://localhost:8080/"
        },
        "id": "Ehk-iyJV-SQJ",
        "outputId": "0945069b-2455-4a64-c97a-0be13e1934d7"
      },
      "execution_count": 16,
      "outputs": [
        {
          "output_type": "stream",
          "name": "stdout",
          "text": [
            "<class 'tuple'>\n",
            "(1, 2, 3, 4, 5)\n"
          ]
        }
      ]
    },
    {
      "cell_type": "code",
      "source": [
        "# Dictionary - Sözlük Örneği -> Öğrencilerin notları\n",
        "notlar={\n",
        "    \"Ali\":85,\n",
        "    \"Veli\":90,\n",
        "    \"Ayşe\":78\n",
        "}\n",
        "notlar[\"Fatma\"]=92 # Yeni öğrenci ekleme\n",
        "\n",
        "notlar[\"Ali\"]=88 # Bir öğrencinin notunu güncelleme\n",
        "\n",
        "print(notlar)\n",
        "\n",
        "#sonuç gösterirken tek tırnak değişkeni,çift tırnak ise string'i ifade eder."
      ],
      "metadata": {
        "colab": {
          "base_uri": "https://localhost:8080/"
        },
        "id": "NeY4GxTT-vM5",
        "outputId": "e367d051-21cc-4239-db6f-4e046dcd1d20"
      },
      "execution_count": 17,
      "outputs": [
        {
          "output_type": "stream",
          "name": "stdout",
          "text": [
            "{'Ali': 88, 'Veli': 90, 'Ayşe': 78, 'Fatma': 92}\n"
          ]
        }
      ]
    },
    {
      "cell_type": "code",
      "source": [
        "print(notlar.keys())    # dict_keys(['isim', 'yas', 'meslek'])\n",
        "print(notlar.values())  # dict_values(['Ahmet', 26, 'Mühendis'])\n",
        "print(notlar.items())   # dict_items([('isim', 'Ahmet'), ('yas', 26), ('meslek', 'Mühendis')])"
      ],
      "metadata": {
        "colab": {
          "base_uri": "https://localhost:8080/"
        },
        "id": "i6JbBWTc-5t5",
        "outputId": "43f4c68d-58d5-4bc2-91e7-bad46d5529a0"
      },
      "execution_count": 18,
      "outputs": [
        {
          "output_type": "stream",
          "name": "stdout",
          "text": [
            "dict_keys(['Ali', 'Veli', 'Ayşe', 'Fatma'])\n",
            "dict_values([88, 90, 78, 92])\n",
            "dict_items([('Ali', 88), ('Veli', 90), ('Ayşe', 78), ('Fatma', 92)])\n"
          ]
        }
      ]
    },
    {
      "cell_type": "markdown",
      "source": [
        "# **Set - Küme Nedir?**\n",
        "\n",
        "Kümeler, benzersiz elemanlardan oluşan sırasız koleksiyonlardır.\n",
        "Kümeler değiştirilebilir ve tekrarlayan eleman içermez.\n",
        "Küme Metotları\n",
        "\n",
        "add(): Küme içerisine eleman ekler.\n",
        "\n",
        "remove(): Küme içerisinden eleman siler.\n",
        "\n",
        "union(): İki kümenin birleşimini döner.\n",
        "\n",
        "intersection(): İki kümenin kesişimini döner.\n",
        "\n",
        "difference(): İki kümenin farkını döner.\n"
      ],
      "metadata": {
        "id": "A0cwRBuOUEBS"
      }
    },
    {
      "cell_type": "code",
      "source": [
        "# Set - Küme Örneği -> Bir yazılım etkinliğine katılan kişilerin oluşturduğu kümeler\n",
        "kodyazanlar = {\"Ahmet\", \"Mehmet\", \"Ayşe\"}\n",
        "kodyazmayanlar = {\"Ayşe\", \"Fatma\", \"Veli\"}\n",
        "\n",
        "# Kafasına Göre Takılan Öğrenciler\n",
        "ortak = kodyazanlar.intersection(kodyazmayanlar)\n",
        "print(\"Kafasına Göre Takılan Öğrencilerin Listesi:\", ortak)\n",
        "\n",
        "# Etkinlikte Kod Çalışması Yapmayan Öğrencilerin Tespiti\n",
        "Kod_yazmayan = kodyazmayanlar.difference(kodyazanlar)\n",
        "print(\"Kod çalışması yapmayan öğrenci listesi:\", Kod_yazmayan)\n",
        "\n",
        "# Yazılım Eğitiminin Öğrenci İmza Listesi\n",
        "imza_listesi = kodyazanlar.union(kodyazmayanlar)\n",
        "print(\"Etkinlik katılımcıları:\", imza_listesi)"
      ],
      "metadata": {
        "colab": {
          "base_uri": "https://localhost:8080/"
        },
        "id": "yczRy8KlCOvQ",
        "outputId": "9f583038-8b66-414e-bbde-b508b190e576"
      },
      "execution_count": 20,
      "outputs": [
        {
          "output_type": "stream",
          "name": "stdout",
          "text": [
            "Kafasına Göre Takılan Öğrencilerin Listesi: {'Ayşe'}\n",
            "Kod çalışması yapmayan öğrenci listesi: {'Veli', 'Fatma'}\n",
            "Etkinlik katılımcıları: {'Ahmet', 'Ayşe', 'Veli', 'Fatma', 'Mehmet'}\n"
          ]
        }
      ]
    },
    {
      "cell_type": "code",
      "source": [
        "giris = input(\"Bir sayı girin: \")\n",
        "try:\n",
        "    num = float(giris)\n",
        "    print(f\"Girilen sayı: {num}, tipi: {type(num)},\", abs(num))\n",
        "except ValueError:\n",
        "    print(\"Geçersiz veri girdiniz.\")\n",
        "\n",
        "    #İnput giriş örneği/dışarıdan veri alma."
      ],
      "metadata": {
        "colab": {
          "base_uri": "https://localhost:8080/"
        },
        "id": "LsPtXGWhDydu",
        "outputId": "fd8c29c2-d433-4230-ee8f-037624315f05"
      },
      "execution_count": 19,
      "outputs": [
        {
          "output_type": "stream",
          "name": "stdout",
          "text": [
            "Bir sayı girin: 5\n",
            "Girilen sayı: 5.0, tipi: <class 'float'>, 5.0\n"
          ]
        }
      ]
    },
    {
      "cell_type": "code",
      "source": [
        "# 0 ile 1 arasında rastgele bir ondalık sayı üretir\n",
        "\n",
        "import random\n",
        "\n",
        "rastgele_float = random.random()\n",
        "print(\"Rastgele Deger:\", rastgele_float)"
      ],
      "metadata": {
        "colab": {
          "base_uri": "https://localhost:8080/"
        },
        "id": "JMACT1OHFRZ0",
        "outputId": "fbf4794c-b063-4d8c-d2de-331a4cd95626"
      },
      "execution_count": 21,
      "outputs": [
        {
          "output_type": "stream",
          "name": "stdout",
          "text": [
            "Rastgele Deger: 0.38725365115581634\n"
          ]
        }
      ]
    },
    {
      "cell_type": "code",
      "source": [
        "# 1 ile 10 arasında (her iki sınır dahil) rastgele bir tam sayı üretir\n",
        "\n",
        "import random\n",
        "\n",
        "rastgele_sayi = random.randint(1, 10)\n",
        "print(\"Rastgele Deger:\", rastgele_sayi)"
      ],
      "metadata": {
        "colab": {
          "base_uri": "https://localhost:8080/"
        },
        "id": "NHB4Dr2JFcmd",
        "outputId": "8f438239-e11e-4717-b5e0-9300cfdda6a4"
      },
      "execution_count": 22,
      "outputs": [
        {
          "output_type": "stream",
          "name": "stdout",
          "text": [
            "Rastgele Deger: 10\n"
          ]
        }
      ]
    }
  ]
}